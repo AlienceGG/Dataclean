{
 "cells": [
  {
   "cell_type": "code",
   "execution_count": 23,
   "metadata": {},
   "outputs": [
    {
     "data": {
      "text/html": [
       "<div>\n",
       "<style scoped>\n",
       "    .dataframe tbody tr th:only-of-type {\n",
       "        vertical-align: middle;\n",
       "    }\n",
       "\n",
       "    .dataframe tbody tr th {\n",
       "        vertical-align: top;\n",
       "    }\n",
       "\n",
       "    .dataframe thead th {\n",
       "        text-align: right;\n",
       "    }\n",
       "</style>\n",
       "<table border=\"1\" class=\"dataframe\">\n",
       "  <thead>\n",
       "    <tr style=\"text-align: right;\">\n",
       "      <th></th>\n",
       "      <th>A</th>\n",
       "      <th>B</th>\n",
       "      <th>C</th>\n",
       "      <th>D</th>\n",
       "      <th>E</th>\n",
       "      <th>First</th>\n",
       "      <th>Second</th>\n",
       "      <th>Third</th>\n",
       "    </tr>\n",
       "  </thead>\n",
       "  <tbody>\n",
       "    <tr>\n",
       "      <th>0</th>\n",
       "      <td>2.00000</td>\n",
       "      <td>1.00000</td>\n",
       "      <td>0.00000</td>\n",
       "      <td>5.00000</td>\n",
       "      <td>4.00000</td>\n",
       "      <td>D</td>\n",
       "      <td>E</td>\n",
       "      <td>A</td>\n",
       "    </tr>\n",
       "    <tr>\n",
       "      <th>1</th>\n",
       "      <td>6.00000</td>\n",
       "      <td>10.00000</td>\n",
       "      <td>7.00000</td>\n",
       "      <td>1.00000</td>\n",
       "      <td>3.00000</td>\n",
       "      <td>B</td>\n",
       "      <td>C</td>\n",
       "      <td>A</td>\n",
       "    </tr>\n",
       "  </tbody>\n",
       "</table>\n",
       "</div>"
      ],
      "text/plain": [
       "        A        B       C       D       E First Second Third\n",
       "0 2.00000  1.00000 0.00000 5.00000 4.00000     D      E     A\n",
       "1 6.00000 10.00000 7.00000 1.00000 3.00000     B      C     A"
      ]
     },
     "execution_count": 23,
     "metadata": {},
     "output_type": "execute_result"
    }
   ],
   "source": [
    "import numpy as np\n",
    "import pandas as pd\n",
    "\n",
    "a = np.array([[2., 1., 0., 5., 4.], [6., 10., 7., 1., 3.]])\n",
    "df = pd.DataFrame(a, columns=['A', 'B', 'C', 'D', 'E'])\n",
    "\n",
    "pd.concat((df,pd.DataFrame(df.columns[np.argsort(df.values)[:,-3:][:,::-1]], columns=['First','Second','Third'])), axis=1)\n",
    "\n",
    "\n",
    "\n",
    "# pd.concat((df, pd.DataFrame(df.columns[np.argsort(df.values, axis=1)[:, -3:][:, ::-1]],columns=['First', 'Second', 'Third'])), axis=1)\n"
   ]
  },
  {
   "cell_type": "code",
   "execution_count": 2,
   "metadata": {},
   "outputs": [],
   "source": [
    "#!/usr/bin/python\n",
    "# -*- coding: utf-8 -*\n",
    "%matplotlib inline\n",
    "#Imports\n",
    "#dataprocessing & viturlization\n",
    "import pandas as pd\n",
    "import numpy as np\n",
    "import matplotlib as mpl\n",
    "import matplotlib.pyplot as plt\n",
    "import seaborn as sns"
   ]
  },
  {
   "cell_type": "code",
   "execution_count": 3,
   "metadata": {},
   "outputs": [],
   "source": [
    "#machine learning\n",
    "from sklearn.linear_model import LogisticRegression\n",
    "from sklearn.svm import SVC, LinearSVC\n",
    "from sklearn.ensemble import RandomForestClassifier,RandomForestRegressor\n",
    "from sklearn.neighbors import KNeighborsClassifier\n",
    "from sklearn.naive_bayes import GaussianNB"
   ]
  },
  {
   "cell_type": "code",
   "execution_count": 7,
   "metadata": {},
   "outputs": [],
   "source": [
    "sns.set(context='notebook',style=\"ticks\",palette=\"GnBu_d\",font_scale=1.5,font='ETBembo',rc={\"figure.figsize\": (10, 6)})\n",
    "plt.rcParams['figure.figsize']=(15,10)\n",
    "plt.show()\n",
    "import warnings\n",
    "warnings.filterwarnings('ignore') #为了整洁，去除弹出的warnings\n",
    "pd.set_option('precision', 5) #设置精度\n",
    "pd.set_option('display.float_format', lambda x: '%.5f' % x) #为了直观的显示数字，不采用科学计数法\n",
    "pd.options.display.max_rows = 10 #最多显示200行"
   ]
  },
  {
   "cell_type": "code",
   "execution_count": 8,
   "metadata": {},
   "outputs": [],
   "source": [
    "rdata = pd.read_csv('bank-full.csv',sep=';',dtype={'balance':np.float64})\n",
    "radata = pd.read_csv('bank-additional-full.csv',sep=';',dtype={'balance':np.float64})"
   ]
  },
  {
   "cell_type": "code",
   "execution_count": 14,
   "metadata": {
    "scrolled": false
   },
   "outputs": [
    {
     "data": {
      "text/plain": [
       "['age',\n",
       " 'balance',\n",
       " 'campaign',\n",
       " 'contact',\n",
       " 'day',\n",
       " 'default',\n",
       " 'duration',\n",
       " 'education',\n",
       " 'housing',\n",
       " 'job',\n",
       " 'loan',\n",
       " 'marital',\n",
       " 'month',\n",
       " 'pdays',\n",
       " 'poutcome',\n",
       " 'previous',\n",
       " 'y']"
      ]
     },
     "execution_count": 14,
     "metadata": {},
     "output_type": "execute_result"
    }
   ],
   "source": [
    "sorted(rdata.columns)"
   ]
  },
  {
   "cell_type": "code",
   "execution_count": 13,
   "metadata": {},
   "outputs": [
    {
     "data": {
      "text/plain": [
       "['age',\n",
       " 'campaign',\n",
       " 'cons.conf.idx',\n",
       " 'cons.price.idx',\n",
       " 'contact',\n",
       " 'day_of_week',\n",
       " 'default',\n",
       " 'duration',\n",
       " 'education',\n",
       " 'emp.var.rate',\n",
       " 'euribor3m',\n",
       " 'housing',\n",
       " 'job',\n",
       " 'loan',\n",
       " 'marital',\n",
       " 'month',\n",
       " 'nr.employed',\n",
       " 'pdays',\n",
       " 'poutcome',\n",
       " 'previous',\n",
       " 'y']"
      ]
     },
     "execution_count": 13,
     "metadata": {},
     "output_type": "execute_result"
    }
   ],
   "source": [
    "sorted(radata.columns)"
   ]
  },
  {
   "cell_type": "code",
   "execution_count": 26,
   "metadata": {},
   "outputs": [
    {
     "name": "stdout",
     "output_type": "stream",
     "text": [
      "<class 'pandas.core.frame.DataFrame'>\n",
      "RangeIndex: 41188 entries, 0 to 41187\n",
      "Data columns (total 21 columns):\n",
      "age               41188 non-null int64\n",
      "job               41188 non-null object\n",
      "marital           41188 non-null object\n",
      "education         41188 non-null object\n",
      "default           41188 non-null object\n",
      "housing           41188 non-null object\n",
      "loan              41188 non-null object\n",
      "contact           41188 non-null object\n",
      "month             41188 non-null object\n",
      "day_of_week       41188 non-null object\n",
      "duration          41188 non-null int64\n",
      "campaign          41188 non-null int64\n",
      "pdays             41188 non-null int64\n",
      "previous          41188 non-null int64\n",
      "poutcome          41188 non-null object\n",
      "emp.var.rate      41188 non-null float64\n",
      "cons.price.idx    41188 non-null float64\n",
      "cons.conf.idx     41188 non-null float64\n",
      "euribor3m         41188 non-null float64\n",
      "nr.employed       41188 non-null float64\n",
      "y                 41188 non-null object\n",
      "dtypes: float64(5), int64(5), object(11)\n",
      "memory usage: 4.9+ MB\n"
     ]
    },
    {
     "ename": "ValueError",
     "evalue": "min() arg is an empty sequence",
     "output_type": "error",
     "traceback": [
      "\u001b[1;31m\u001b[0m",
      "\u001b[1;31mValueError\u001b[0mTraceback (most recent call last)",
      "\u001b[1;32m<ipython-input-26-0e4d14cbef3f>\u001b[0m in \u001b[0;36m<module>\u001b[1;34m()\u001b[0m\n\u001b[0;32m     13\u001b[0m             pct_90=radata.select_dtypes(include=['float64']).apply(lambda x: x.dropna().quantile(.9)))\n\u001b[0;32m     14\u001b[0m \u001b[0mdemo_data\u001b[0m \u001b[1;33m=\u001b[0m \u001b[0mradata\u001b[0m\u001b[1;33m.\u001b[0m\u001b[0mloc\u001b[0m\u001b[1;33m[\u001b[0m\u001b[1;33m:\u001b[0m\u001b[1;33m,\u001b[0m\u001b[0mradata\u001b[0m\u001b[1;33m.\u001b[0m\u001b[0mcolumns\u001b[0m\u001b[1;33m.\u001b[0m\u001b[0mstr\u001b[0m\u001b[1;33m.\u001b[0m\u001b[0mcontains\u001b[0m\u001b[1;33m(\u001b[0m\u001b[1;34m'unknown'\u001b[0m\u001b[1;33m)\u001b[0m\u001b[1;33m]\u001b[0m \u001b[1;31m#取包含‘num’的所有变量\u001b[0m\u001b[1;33m\u001b[0m\u001b[0m\n\u001b[1;32m---> 15\u001b[1;33m \u001b[0msns\u001b[0m\u001b[1;33m.\u001b[0m\u001b[0mboxplot\u001b[0m\u001b[1;33m(\u001b[0m\u001b[0mdata\u001b[0m\u001b[1;33m=\u001b[0m\u001b[0mdemo_data\u001b[0m\u001b[1;33m,\u001b[0m\u001b[0morient\u001b[0m\u001b[1;33m=\u001b[0m\u001b[1;34m\"h\"\u001b[0m\u001b[1;33m,\u001b[0m\u001b[0mcolor\u001b[0m\u001b[1;33m=\u001b[0m\u001b[1;34m\"c\"\u001b[0m\u001b[1;33m)\u001b[0m\u001b[1;33m\u001b[0m\u001b[0m\n\u001b[0m\u001b[0;32m     16\u001b[0m \u001b[1;33m\u001b[0m\u001b[0m\n\u001b[0;32m     17\u001b[0m \u001b[0msns\u001b[0m\u001b[1;33m.\u001b[0m\u001b[0mdespine\u001b[0m\u001b[1;33m(\u001b[0m\u001b[0mtrim\u001b[0m\u001b[1;33m=\u001b[0m\u001b[0mTrue\u001b[0m\u001b[1;33m,\u001b[0m\u001b[0moffset\u001b[0m\u001b[1;33m=\u001b[0m\u001b[1;36m10\u001b[0m\u001b[1;33m)\u001b[0m\u001b[1;33m\u001b[0m\u001b[0m\n",
      "\u001b[1;32mC:\\Python27\\lib\\site-packages\\seaborn\\categorical.pyc\u001b[0m in \u001b[0;36mboxplot\u001b[1;34m(x, y, hue, data, order, hue_order, orient, color, palette, saturation, width, dodge, fliersize, linewidth, whis, notch, ax, **kwargs)\u001b[0m\n\u001b[0;32m   2209\u001b[0m     plotter = _BoxPlotter(x, y, hue, data, order, hue_order,\n\u001b[0;32m   2210\u001b[0m                           \u001b[0morient\u001b[0m\u001b[1;33m,\u001b[0m \u001b[0mcolor\u001b[0m\u001b[1;33m,\u001b[0m \u001b[0mpalette\u001b[0m\u001b[1;33m,\u001b[0m \u001b[0msaturation\u001b[0m\u001b[1;33m,\u001b[0m\u001b[1;33m\u001b[0m\u001b[0m\n\u001b[1;32m-> 2211\u001b[1;33m                           width, dodge, fliersize, linewidth)\n\u001b[0m\u001b[0;32m   2212\u001b[0m \u001b[1;33m\u001b[0m\u001b[0m\n\u001b[0;32m   2213\u001b[0m     \u001b[1;32mif\u001b[0m \u001b[0max\u001b[0m \u001b[1;32mis\u001b[0m \u001b[0mNone\u001b[0m\u001b[1;33m:\u001b[0m\u001b[1;33m\u001b[0m\u001b[0m\n",
      "\u001b[1;32mC:\\Python27\\lib\\site-packages\\seaborn\\categorical.pyc\u001b[0m in \u001b[0;36m__init__\u001b[1;34m(self, x, y, hue, data, order, hue_order, orient, color, palette, saturation, width, dodge, fliersize, linewidth)\u001b[0m\n\u001b[0;32m    440\u001b[0m \u001b[1;33m\u001b[0m\u001b[0m\n\u001b[0;32m    441\u001b[0m         \u001b[0mself\u001b[0m\u001b[1;33m.\u001b[0m\u001b[0mestablish_variables\u001b[0m\u001b[1;33m(\u001b[0m\u001b[0mx\u001b[0m\u001b[1;33m,\u001b[0m \u001b[0my\u001b[0m\u001b[1;33m,\u001b[0m \u001b[0mhue\u001b[0m\u001b[1;33m,\u001b[0m \u001b[0mdata\u001b[0m\u001b[1;33m,\u001b[0m \u001b[0morient\u001b[0m\u001b[1;33m,\u001b[0m \u001b[0morder\u001b[0m\u001b[1;33m,\u001b[0m \u001b[0mhue_order\u001b[0m\u001b[1;33m)\u001b[0m\u001b[1;33m\u001b[0m\u001b[0m\n\u001b[1;32m--> 442\u001b[1;33m         \u001b[0mself\u001b[0m\u001b[1;33m.\u001b[0m\u001b[0mestablish_colors\u001b[0m\u001b[1;33m(\u001b[0m\u001b[0mcolor\u001b[0m\u001b[1;33m,\u001b[0m \u001b[0mpalette\u001b[0m\u001b[1;33m,\u001b[0m \u001b[0msaturation\u001b[0m\u001b[1;33m)\u001b[0m\u001b[1;33m\u001b[0m\u001b[0m\n\u001b[0m\u001b[0;32m    443\u001b[0m \u001b[1;33m\u001b[0m\u001b[0m\n\u001b[0;32m    444\u001b[0m         \u001b[0mself\u001b[0m\u001b[1;33m.\u001b[0m\u001b[0mdodge\u001b[0m \u001b[1;33m=\u001b[0m \u001b[0mdodge\u001b[0m\u001b[1;33m\u001b[0m\u001b[0m\n",
      "\u001b[1;32mC:\\Python27\\lib\\site-packages\\seaborn\\categorical.pyc\u001b[0m in \u001b[0;36mestablish_colors\u001b[1;34m(self, color, palette, saturation)\u001b[0m\n\u001b[0;32m    309\u001b[0m         \u001b[1;31m# Determine the gray color to use for the lines framing the plot\u001b[0m\u001b[1;33m\u001b[0m\u001b[1;33m\u001b[0m\u001b[0m\n\u001b[0;32m    310\u001b[0m         \u001b[0mlight_vals\u001b[0m \u001b[1;33m=\u001b[0m \u001b[1;33m[\u001b[0m\u001b[0mcolorsys\u001b[0m\u001b[1;33m.\u001b[0m\u001b[0mrgb_to_hls\u001b[0m\u001b[1;33m(\u001b[0m\u001b[1;33m*\u001b[0m\u001b[0mc\u001b[0m\u001b[1;33m)\u001b[0m\u001b[1;33m[\u001b[0m\u001b[1;36m1\u001b[0m\u001b[1;33m]\u001b[0m \u001b[1;32mfor\u001b[0m \u001b[0mc\u001b[0m \u001b[1;32min\u001b[0m \u001b[0mrgb_colors\u001b[0m\u001b[1;33m]\u001b[0m\u001b[1;33m\u001b[0m\u001b[0m\n\u001b[1;32m--> 311\u001b[1;33m         \u001b[0ml\u001b[0m \u001b[1;33m=\u001b[0m \u001b[0mmin\u001b[0m\u001b[1;33m(\u001b[0m\u001b[0mlight_vals\u001b[0m\u001b[1;33m)\u001b[0m \u001b[1;33m*\u001b[0m \u001b[1;36m.6\u001b[0m\u001b[1;33m\u001b[0m\u001b[0m\n\u001b[0m\u001b[0;32m    312\u001b[0m         \u001b[0mgray\u001b[0m \u001b[1;33m=\u001b[0m \u001b[0mmpl\u001b[0m\u001b[1;33m.\u001b[0m\u001b[0mcolors\u001b[0m\u001b[1;33m.\u001b[0m\u001b[0mrgb2hex\u001b[0m\u001b[1;33m(\u001b[0m\u001b[1;33m(\u001b[0m\u001b[0ml\u001b[0m\u001b[1;33m,\u001b[0m \u001b[0ml\u001b[0m\u001b[1;33m,\u001b[0m \u001b[0ml\u001b[0m\u001b[1;33m)\u001b[0m\u001b[1;33m)\u001b[0m\u001b[1;33m\u001b[0m\u001b[0m\n\u001b[0;32m    313\u001b[0m \u001b[1;33m\u001b[0m\u001b[0m\n",
      "\u001b[1;31mValueError\u001b[0m: min() arg is an empty sequence"
     ]
    }
   ],
   "source": [
    "##########################data_check#########################################\n",
    "radata.columns\n",
    "radata.info()\n",
    "radata.describe()\n",
    "\n",
    "radata.describe().astype(np.int64).T\n",
    "radata.select_dtypes(include=['O']).describe().T.assign(missing_pct=radata.apply(lambda x : (len(x)-x.count())/len(x)))\n",
    "(radata.select_dtypes(include=['float64']).describe().T) .drop(['25%','50%','75%'],axis=1)\\\n",
    "    .assign(missing_pct=radata.apply(lambda x: (len(x)-x.count())/len(x)),nunique = radata.apply(lambda x: x.nunique()),\n",
    "            pct_10=radata.select_dtypes(include=['float64']).apply(lambda x: x.dropna().quantile(.1)),\n",
    "            pct_25=radata.select_dtypes(include=['float64']).apply(lambda x: x.dropna().quantile(.25)),\n",
    "            pct_50=radata.select_dtypes(include=['float64']).apply(lambda x: x.dropna().quantile(.5)),\n",
    "            pct_75=radata.select_dtypes(include=['float64']).apply(lambda x: x.dropna().quantile(.75)),\n",
    "            pct_90=radata.select_dtypes(include=['float64']).apply(lambda x: x.dropna().quantile(.9)))\n",
    "demo_data = radata.loc[:,radata.columns.str.contains('')] #取包含‘num’的所有变量\n",
    "sns.boxplot(data=demo_data,orient=\"h\",color=\"c\")\n",
    "\n",
    "sns.despine(trim=True,offset=10)"
   ]
  },
  {
   "cell_type": "code",
   "execution_count": 23,
   "metadata": {},
   "outputs": [
    {
     "name": "stdout",
     "output_type": "stream",
     "text": [
      "age               False\n",
      "job               False\n",
      "marital           False\n",
      "education         False\n",
      "default           False\n",
      "housing           False\n",
      "loan              False\n",
      "contact           False\n",
      "month             False\n",
      "day_of_week       False\n",
      "duration          False\n",
      "campaign          False\n",
      "pdays             False\n",
      "previous          False\n",
      "poutcome          False\n",
      "emp.var.rate      False\n",
      "cons.price.idx    False\n",
      "cons.conf.idx     False\n",
      "euribor3m         False\n",
      "nr.employed       False\n",
      "y                 False\n",
      "dtype: bool\n"
     ]
    },
    {
     "data": {
      "text/html": [
       "<div>\n",
       "<style scoped>\n",
       "    .dataframe tbody tr th:only-of-type {\n",
       "        vertical-align: middle;\n",
       "    }\n",
       "\n",
       "    .dataframe tbody tr th {\n",
       "        vertical-align: top;\n",
       "    }\n",
       "\n",
       "    .dataframe thead th {\n",
       "        text-align: right;\n",
       "    }\n",
       "</style>\n",
       "<table border=\"1\" class=\"dataframe\">\n",
       "  <thead>\n",
       "    <tr style=\"text-align: right;\">\n",
       "      <th></th>\n",
       "      <th>age</th>\n",
       "      <th>job</th>\n",
       "      <th>marital</th>\n",
       "      <th>education</th>\n",
       "      <th>default</th>\n",
       "      <th>housing</th>\n",
       "      <th>loan</th>\n",
       "      <th>contact</th>\n",
       "      <th>month</th>\n",
       "      <th>day_of_week</th>\n",
       "      <th>...</th>\n",
       "      <th>campaign</th>\n",
       "      <th>pdays</th>\n",
       "      <th>previous</th>\n",
       "      <th>poutcome</th>\n",
       "      <th>emp.var.rate</th>\n",
       "      <th>cons.price.idx</th>\n",
       "      <th>cons.conf.idx</th>\n",
       "      <th>euribor3m</th>\n",
       "      <th>nr.employed</th>\n",
       "      <th>y</th>\n",
       "    </tr>\n",
       "  </thead>\n",
       "  <tbody>\n",
       "  </tbody>\n",
       "</table>\n",
       "<p>0 rows × 21 columns</p>\n",
       "</div>"
      ],
      "text/plain": [
       "Empty DataFrame\n",
       "Columns: [age, job, marital, education, default, housing, loan, contact, month, day_of_week, duration, campaign, pdays, previous, poutcome, emp.var.rate, cons.price.idx, cons.conf.idx, euribor3m, nr.employed, y]\n",
       "Index: []\n",
       "\n",
       "[0 rows x 21 columns]"
      ]
     },
     "execution_count": 23,
     "metadata": {},
     "output_type": "execute_result"
    }
   ],
   "source": [
    "############################记录重复值检查与处理#############################\n",
    "radata[radata.duplicated()==True].count()\n",
    "radata[radata.duplicated()==True]\n",
    "radata.drop_duplicates()\n",
    "\n",
    "##########################空值检查与处理######################################\n",
    "radata.isnull().any()\n",
    "radata[radata.isnull().values==True]"
   ]
  },
  {
   "cell_type": "code",
   "execution_count": null,
   "metadata": {},
   "outputs": [],
   "source": [
    "#缺失值较多的特征处理\n",
    "# 定义工资改变特征缺失值处理函数，将有变化设为Yes，缺失设为No\n",
    "def set_salary_change(df):\n",
    "    df.loc[(df.salary_change.notnull()), 'salary_change'] = 'Yes'\n",
    "    df.loc[(df.salary_change.isnull(df)), 'salary_change'] = 'No'\n",
    "    print df\n",
    "    pd.df()\n",
    "    print df\n",
    "    return df\n",
    "radata = set_salary_change(radata)"
   ]
  },
  {
   "cell_type": "code",
   "execution_count": null,
   "metadata": {},
   "outputs": [],
   "source": [
    "#缺失值较少的特征处理\n",
    "# 将所有行用各自的均值填充\n",
    "radata.fillna(radata.mean())\n",
    "# 也可以指定某些行进行填充\n",
    "radata.fillna(radata.mean()['browse_his', 'card_num'])\n",
    "# 用前一个数据代替NaN：method='pad'\n",
    "radata.fillna(method='pad')\n",
    "# 与pad相反，bfill表示用后一个数据代替NaN\n",
    "radata.fillna(method='bfill')\n",
    "# 插值法就是通过两点（x0，y0），（x1，y1）估计中间点的值\n",
    "radata.interpolate()"
   ]
  },
  {
   "cell_type": "code",
   "execution_count": null,
   "metadata": {},
   "outputs": [],
   "source": [
    "##\n",
    "radata[radata.isnull()==True].count()\n",
    "radata[radata.notnull()==True].count()\n",
    "\n",
    "radata.fillna(0)\n",
    "radata.dropna()\n",
    "radata['loan_amnt']=radata['loan_amnt'].fillna(radata['total_pymnt']-radata['total_rec_int']).astype(np.int64)\n",
    "radata['annual_inc']=radata['annual_inc'].fillna(radata['annual_inc'].mean())\n",
    "\n",
    "##################异常值检查与处理###############################################\n",
    "#连续变量\n",
    "radata['age'].value_counts()\n",
    "sns.distplot(radata['age'])\n",
    "radata.boxplot(column='age')\n",
    "radata.boxplot(column='age',by='education')\n",
    "#分类变量\n",
    "sns.stripplot(x='education',y='age',data=radata,jitter=True)\n",
    "sns.stripplot(x='education',y='age', hue=\"y\",data=radata, jitter=True)\n",
    "\n",
    "#ata.replace([A, B], [A_R, B_R])  data.replace({A:A_R, B:B_R})\n",
    "radata['loan_amnt'].replace([100000,36],radata['loan_amnt'].mean())\n",
    "radata['age'].replace([158, 6], np.nan)\n",
    "sigp = radata['age'].mean() + 3 * radata['age'].std()\n",
    "sigm = radata['age'].mean() - 3 * radata['age'].std()\n",
    "radata['age'].replace(radata[radata['age']>sigp].age,sigp)\n",
    "radata['age'].replace(radata[radata['age']<sigm].age,sigm)\n",
    "\n",
    "#检查和去字符空格\n",
    "radata['education'].value_counts()\n",
    "radata['term'] = radata['term'].map(str.strip)\n",
    "radata['term'] = radata['term'].map(str.lstrip)\n",
    "radata['term'] = radata['term'].map(str.rstrip)\n",
    "#调大小写\n",
    "radata['term']=radata['term'].map(str.upper)\n",
    "radata['term']=radata['term'].map(str.lower)\n",
    "radata['term']=radata['term'].map(str.title)\n",
    "#检查每个变量类型是否一致\n",
    "radata['emp_length'].apply(lambda x: x.isalpha())\n",
    "radata['emp_length'].apply(lambda x: x. isalnum ())\n",
    "radata['emp_length'].apply(lambda x: x. isdigit ())\n",
    "\n",
    "##############修整数据格式#####################\n",
    "radata['loan_amnt']=radata['loan_amnt'].astype(np.int64)\n",
    "radata['issue_d']=pd.to_datetime(radata['issue_d'])\n",
    "radata.dtypes\n",
    "\n",
    "##############数据分箱######################\n",
    "bins = [0, 5, 10, 15, 20]\n",
    "group_names = ['A', 'B', 'C', 'D']\n",
    "radata['categories'] = pd.cut(radata['open_acc'], bins, labels=group_names)\n",
    "\n",
    "cutPoint=[0,30, 40, 50,80]\n",
    "groupLabel=[0,1,2,3]\n",
    "pd.cut(radata['age'],cutPoint)\n",
    "radata['ageGroup'] =pd.cut(radata['age'],cutPoint,labels=groupLabel)\n",
    "#按分位数\n",
    "radata['ageGroup'] =pd.qcut(radata['age'],2)#分两组\n",
    "pd.get_dummies(radata['ageGroup'] )\n",
    "radata =pd.merge(radata, pd.get_dummies(radata['ageGroup'], prefix='age' ),right_index=True, left_index=True)\n",
    "###########一个变量分裂############\n",
    "grade_split = pd.DataFrame((x.split('-') for x in radata.grade),index=radata.index,columns=['grade','sub_grade'])\n",
    "radata=pd.merge(radata,grade_split,right_index=True, left_index=True)"
   ]
  }
 ],
 "metadata": {
  "kernelspec": {
   "display_name": "Python 2",
   "language": "python",
   "name": "python2"
  },
  "language_info": {
   "codemirror_mode": {
    "name": "ipython",
    "version": 2
   },
   "file_extension": ".py",
   "mimetype": "text/x-python",
   "name": "python",
   "nbconvert_exporter": "python",
   "pygments_lexer": "ipython2",
   "version": "2.7.14"
  }
 },
 "nbformat": 4,
 "nbformat_minor": 1
}
